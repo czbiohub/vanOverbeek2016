{
 "cells": [
  {
   "cell_type": "markdown",
   "metadata": {},
   "source": [
    "## Create function to count kmers "
   ]
  },
  {
   "cell_type": "code",
   "execution_count": 43,
   "metadata": {
    "collapsed": true
   },
   "outputs": [],
   "source": [
    "import pandas as pd "
   ]
  },
  {
   "cell_type": "code",
   "execution_count": 21,
   "metadata": {},
   "outputs": [
    {
     "data": {
      "text/plain": [
       "{'AAAA': 12,\n",
       " 'AAAG': 2,\n",
       " 'AAGG': 2,\n",
       " 'AGGG': 2,\n",
       " 'GAAA': 1,\n",
       " 'GGAA': 1,\n",
       " 'GGGA': 1,\n",
       " 'GGGG': 4}"
      ]
     },
     "execution_count": 21,
     "metadata": {},
     "output_type": "execute_result"
    }
   ],
   "source": [
    "def kmer_counter(sequence, kmer_length):\n",
    "    sequence_length=len(sequence)\n",
    "    number_of_kmers=((sequence_length-kmer_length)+1)\n",
    "    \n",
    "    kmer_counts_dict={}\n",
    "    \n",
    "    for i in range(number_of_kmers):\n",
    "        kmer=sequence[i:(i+kmer_length)]\n",
    "        if kmer in kmer_counts_dict: # here we could use kmer_counts_dict.keys() also\n",
    "            kmer_counts_dict[kmer]+=1\n",
    "        else:\n",
    "            kmer_counts_dict[kmer]=1\n",
    "    return kmer_counts_dict\n",
    "\n",
    "kmer_example2=kmer_counter(\"AAAAAAAAAGGGGGGGAAAAAAAAAGGG\", 4)\n",
    "\n",
    "kmer_example2"
   ]
  },
  {
   "cell_type": "markdown",
   "metadata": {},
   "source": [
    "### Make a dictionary of VO guide name and seq key value pairs.\n"
   ]
  },
  {
   "cell_type": "code",
   "execution_count": 90,
   "metadata": {
    "collapsed": true
   },
   "outputs": [],
   "source": [
    "\n",
    "VO_2016_guides=pd.read_csv(\"VO_guides_2016.csv\")\n",
    "VO_2016_guides_cleaned=VO_2016_guides.drop(VO_2016_guides.index[96:1475])\n",
    "spacer_name=list(VO_2016_guides_cleaned['Spacer '])\n",
    "spacer_seq=list(VO_2016_guides_cleaned['Spacer sequence'])\n",
    "VO_Guide_dictionary=dict(zip(spacer_name, spacer_seq))\n",
    "print(VO_Guide_dictionary)"
   ]
  },
  {
   "cell_type": "markdown",
   "metadata": {},
   "source": [
    "### make a dictionary of VO guide kmers \n",
    "with key=(guide_name,seq) value=kmer count dictionary "
   ]
  },
  {
   "cell_type": "code",
   "execution_count": 89,
   "metadata": {},
   "outputs": [
    {
     "name": "stdout",
     "output_type": "stream",
     "text": [
      "{(1.0, 'CCCTCAAGAGTGACTACATCAGC'): {'CCCT': 1, 'CCTC': 1, 'CTCA': 1, 'TCAA': 1, 'CAAG': 1, 'AAGA': 1, 'AGAG': 1, 'GAGT': 1, 'AGTG': 1, 'GTGA': 1, 'TGAC': 1, 'GACT': 1, 'ACTA': 1, 'CTAC': 1, 'TACA': 1, 'ACAT': 1, 'CATC': 1, 'ATCA': 1, 'TCAG': 1, 'CAGC': 1}, (2.0, 'AGTGTGCATTGCCACCTCAGTGG'): {'AGTG': 2, 'GTGT': 1, 'TGTG': 1, 'GTGC': 1, 'TGCA': 1, 'GCAT': 1, 'CATT': 1, 'ATTG': 1, 'TTGC': 1, 'TGCC': 1, 'GCCA': 1, 'CCAC': 1, 'CACC': 1, 'ACCT': 1, 'CCTC': 1, 'CTCA': 1, 'TCAG': 1, 'CAGT': 1, 'GTGG': 1}, (3.0, 'CCGGGCATCTGCAGCCTGCATCT'): {'CCGG': 1, 'CGGG': 1, 'GGGC': 1, 'GGCA': 1, 'GCAT': 2, 'CATC': 2, 'ATCT': 2, 'TCTG': 1, 'CTGC': 2, 'TGCA': 2, 'GCAG': 1, 'CAGC': 1, 'AGCC': 1, 'GCCT': 1, 'CCTG': 1}, (4.0, 'CCTGGGAGCCGCCGCCGAGGGCC'): {'CCTG': 1, 'CTGG': 1, 'TGGG': 1, 'GGGA': 1, 'GGAG': 1, 'GAGC': 1, 'AGCC': 1, 'GCCG': 3, 'CCGC': 2, 'CGCC': 2, 'CCGA': 1, 'CGAG': 1, 'GAGG': 1, 'AGGG': 1, 'GGGC': 1, 'GGCC': 1}, (5.0, 'CCATCTATAACAACATGTTCTGT'): {'CCAT': 1, 'CATC': 1, 'ATCT': 1, 'TCTA': 1, 'CTAT': 1, 'TATA': 1, 'ATAA': 1, 'TAAC': 1, 'AACA': 2, 'ACAA': 1, 'CAAC': 1, 'ACAT': 1, 'CATG': 1, 'ATGT': 1, 'TGTT': 1, 'GTTC': 1, 'TTCT': 1, 'TCTG': 1, 'CTGT': 1}, (6.0, 'CCGAGGAGCTTTCCAGAATCTGT'): {'CCGA': 1, 'CGAG': 1, 'GAGG': 1, 'AGGA': 1, 'GGAG': 1, 'GAGC': 1, 'AGCT': 1, 'GCTT': 1, 'CTTT': 1, 'TTTC': 1, 'TTCC': 1, 'TCCA': 1, 'CCAG': 1, 'CAGA': 1, 'AGAA': 1, 'GAAT': 1, 'AATC': 1, 'ATCT': 1, 'TCTG': 1, 'CTGT': 1}, (7.0, 'CCTTAGAGTTCCACTTGTTGACC'): {'CCTT': 1, 'CTTA': 1, 'TTAG': 1, 'TAGA': 1, 'AGAG': 1, 'GAGT': 1, 'AGTT': 1, 'GTTC': 1, 'TTCC': 1, 'TCCA': 1, 'CCAC': 1, 'CACT': 1, 'ACTT': 1, 'CTTG': 1, 'TTGT': 1, 'TGTT': 1, 'GTTG': 1, 'TTGA': 1, 'TGAC': 1, 'GACC': 1}, (8.0, 'CCCAAGAGCCCCTGAAATACTCC'): {'CCCA': 1, 'CCAA': 1, 'CAAG': 1, 'AAGA': 1, 'AGAG': 1, 'GAGC': 1, 'AGCC': 1, 'GCCC': 1, 'CCCC': 1, 'CCCT': 1, 'CCTG': 1, 'CTGA': 1, 'TGAA': 1, 'GAAA': 1, 'AAAT': 1, 'AATA': 1, 'ATAC': 1, 'TACT': 1, 'ACTC': 1, 'CTCC': 1}, (9.0, 'CCCACTAGCAGCACAGCCCTCCC'): {'CCCA': 1, 'CCAC': 1, 'CACT': 1, 'ACTA': 1, 'CTAG': 1, 'TAGC': 1, 'AGCA': 2, 'GCAG': 1, 'CAGC': 2, 'GCAC': 1, 'CACA': 1, 'ACAG': 1, 'AGCC': 1, 'GCCC': 1, 'CCCT': 1, 'CCTC': 1, 'CTCC': 1, 'TCCC': 1}, (10.0, 'CCACAGATATAATTTCAAGTTGC'): {'CCAC': 1, 'CACA': 1, 'ACAG': 1, 'CAGA': 1, 'AGAT': 1, 'GATA': 1, 'ATAT': 1, 'TATA': 1, 'ATAA': 1, 'TAAT': 1, 'AATT': 1, 'ATTT': 1, 'TTTC': 1, 'TTCA': 1, 'TCAA': 1, 'CAAG': 1, 'AAGT': 1, 'AGTT': 1, 'GTTG': 1, 'TTGC': 1}, (11.0, 'GTAGAGAAAGAAGCAGTGCCTGG'): {'GTAG': 1, 'TAGA': 1, 'AGAG': 1, 'GAGA': 1, 'AGAA': 2, 'GAAA': 1, 'AAAG': 1, 'AAGA': 1, 'GAAG': 1, 'AAGC': 1, 'AGCA': 1, 'GCAG': 1, 'CAGT': 1, 'AGTG': 1, 'GTGC': 1, 'TGCC': 1, 'GCCT': 1, 'CCTG': 1, 'CTGG': 1}, (12.0, 'ATAGGAGAAGATGATGTATAGGG'): {'ATAG': 2, 'TAGG': 2, 'AGGA': 1, 'GGAG': 1, 'GAGA': 1, 'AGAA': 1, 'GAAG': 1, 'AAGA': 1, 'AGAT': 1, 'GATG': 2, 'ATGA': 1, 'TGAT': 1, 'ATGT': 1, 'TGTA': 1, 'GTAT': 1, 'TATA': 1, 'AGGG': 1}, (13.0, 'GCATACAGTGATTTGATGAAAGG'): {'GCAT': 1, 'CATA': 1, 'ATAC': 1, 'TACA': 1, 'ACAG': 1, 'CAGT': 1, 'AGTG': 1, 'GTGA': 1, 'TGAT': 2, 'GATT': 1, 'ATTT': 1, 'TTTG': 1, 'TTGA': 1, 'GATG': 1, 'ATGA': 1, 'TGAA': 1, 'GAAA': 1, 'AAAG': 1, 'AAGG': 1}, (14.0, 'GGGGGCCCTCCTCTTGCTGCTGG'): {'GGGG': 2, 'GGGC': 1, 'GGCC': 1, 'GCCC': 1, 'CCCT': 1, 'CCTC': 2, 'CTCC': 1, 'TCCT': 1, 'CTCT': 1, 'TCTT': 1, 'CTTG': 1, 'TTGC': 1, 'TGCT': 2, 'GCTG': 2, 'CTGC': 1, 'CTGG': 1}, (15.0, 'GAAAATCATCAGTTATCATCAGG'): {'GAAA': 1, 'AAAA': 1, 'AAAT': 1, 'AATC': 1, 'ATCA': 4, 'TCAT': 2, 'CATC': 2, 'TCAG': 2, 'CAGT': 1, 'AGTT': 1, 'GTTA': 1, 'TTAT': 1, 'TATC': 1, 'CAGG': 1}, (16.0, 'CCGTTGTTGTCAAGACTCATGAA'): {'CCGT': 1, 'CGTT': 1, 'GTTG': 2, 'TTGT': 2, 'TGTT': 1, 'TGTC': 1, 'GTCA': 1, 'TCAA': 1, 'CAAG': 1, 'AAGA': 1, 'AGAC': 1, 'GACT': 1, 'ACTC': 1, 'CTCA': 1, 'TCAT': 1, 'CATG': 1, 'ATGA': 1, 'TGAA': 1}, (17.0, 'GGTGGCGGGCACTGTCGTCATGG'): {'GGTG': 1, 'GTGG': 1, 'TGGC': 1, 'GGCG': 1, 'GCGG': 1, 'CGGG': 1, 'GGGC': 1, 'GGCA': 1, 'GCAC': 1, 'CACT': 1, 'ACTG': 1, 'CTGT': 1, 'TGTC': 1, 'GTCG': 1, 'TCGT': 1, 'CGTC': 1, 'GTCA': 1, 'TCAT': 1, 'CATG': 1, 'ATGG': 1}, (18.0, 'ATGACAGTGCCAAAGCCAGCCGG'): {'ATGA': 1, 'TGAC': 1, 'GACA': 1, 'ACAG': 1, 'CAGT': 1, 'AGTG': 1, 'GTGC': 1, 'TGCC': 1, 'GCCA': 2, 'CCAA': 1, 'CAAA': 1, 'AAAG': 1, 'AAGC': 1, 'AGCC': 2, 'CCAG': 1, 'CAGC': 1, 'GCCG': 1, 'CCGG': 1}, (19.0, 'CCACCCACCCTTAGTTCTACTGT'): {'CCAC': 2, 'CACC': 2, 'ACCC': 2, 'CCCA': 1, 'CCCT': 1, 'CCTT': 1, 'CTTA': 1, 'TTAG': 1, 'TAGT': 1, 'AGTT': 1, 'GTTC': 1, 'TTCT': 1, 'TCTA': 1, 'CTAC': 1, 'TACT': 1, 'ACTG': 1, 'CTGT': 1}, (20.0, 'CCGCCGTCCAAGACCTACCGAGG'): {'CCGC': 1, 'CGCC': 1, 'GCCG': 1, 'CCGT': 1, 'CGTC': 1, 'GTCC': 1, 'TCCA': 1, 'CCAA': 1, 'CAAG': 1, 'AAGA': 1, 'AGAC': 1, 'GACC': 1, 'ACCT': 1, 'CCTA': 1, 'CTAC': 1, 'TACC': 1, 'ACCG': 1, 'CCGA': 1, 'CGAG': 1, 'GAGG': 1}, (21.0, 'CCTTGGGGTGGATAAGCGTGATG'): {'CCTT': 1, 'CTTG': 1, 'TTGG': 1, 'TGGG': 1, 'GGGG': 1, 'GGGT': 1, 'GGTG': 1, 'GTGG': 1, 'TGGA': 1, 'GGAT': 1, 'GATA': 1, 'ATAA': 1, 'TAAG': 1, 'AAGC': 1, 'AGCG': 1, 'GCGT': 1, 'CGTG': 1, 'GTGA': 1, 'TGAT': 1, 'GATG': 1}, (22.0, 'ACCATGAGTAACTCCATTCCTGG'): {'ACCA': 1, 'CCAT': 2, 'CATG': 1, 'ATGA': 1, 'TGAG': 1, 'GAGT': 1, 'AGTA': 1, 'GTAA': 1, 'TAAC': 1, 'AACT': 1, 'ACTC': 1, 'CTCC': 1, 'TCCA': 1, 'CATT': 1, 'ATTC': 1, 'TTCC': 1, 'TCCT': 1, 'CCTG': 1, 'CTGG': 1}, (23.0, 'GGAGGTAGAGATTCATGTCAAGG'): {'GGAG': 1, 'GAGG': 1, 'AGGT': 1, 'GGTA': 1, 'GTAG': 1, 'TAGA': 1, 'AGAG': 1, 'GAGA': 1, 'AGAT': 1, 'GATT': 1, 'ATTC': 1, 'TTCA': 1, 'TCAT': 1, 'CATG': 1, 'ATGT': 1, 'TGTC': 1, 'GTCA': 1, 'TCAA': 1, 'CAAG': 1, 'AAGG': 1}, (24.0, 'CCTTTACTTTTCTGTATTCGTTC'): {'CCTT': 1, 'CTTT': 2, 'TTTA': 1, 'TTAC': 1, 'TACT': 1, 'ACTT': 1, 'TTTT': 1, 'TTTC': 1, 'TTCT': 1, 'TCTG': 1, 'CTGT': 1, 'TGTA': 1, 'GTAT': 1, 'TATT': 1, 'ATTC': 1, 'TTCG': 1, 'TCGT': 1, 'CGTT': 1, 'GTTC': 1}, (25.0, 'CCAAGACATGATGGGCCACGGAT'): {'CCAA': 1, 'CAAG': 1, 'AAGA': 1, 'AGAC': 1, 'GACA': 1, 'ACAT': 1, 'CATG': 1, 'ATGA': 1, 'TGAT': 1, 'GATG': 1, 'ATGG': 1, 'TGGG': 1, 'GGGC': 1, 'GGCC': 1, 'GCCA': 1, 'CCAC': 1, 'CACG': 1, 'ACGG': 1, 'CGGA': 1, 'GGAT': 1}, (26.0, 'CCGCTATCTGCCGCTTGTCCACC'): {'CCGC': 2, 'CGCT': 2, 'GCTA': 1, 'CTAT': 1, 'TATC': 1, 'ATCT': 1, 'TCTG': 1, 'CTGC': 1, 'TGCC': 1, 'GCCG': 1, 'GCTT': 1, 'CTTG': 1, 'TTGT': 1, 'TGTC': 1, 'GTCC': 1, 'TCCA': 1, 'CCAC': 1, 'CACC': 1}, (27.0, 'GAACTGCAAAGTGAAACAAAAGG'): {'GAAC': 1, 'AACT': 1, 'ACTG': 1, 'CTGC': 1, 'TGCA': 1, 'GCAA': 1, 'CAAA': 2, 'AAAG': 2, 'AAGT': 1, 'AGTG': 1, 'GTGA': 1, 'TGAA': 1, 'GAAA': 1, 'AAAC': 1, 'AACA': 1, 'ACAA': 1, 'AAAA': 1, 'AAGG': 1}, (28.0, 'ACTGACACGCAGACATTCAGCGG'): {'ACTG': 1, 'CTGA': 1, 'TGAC': 1, 'GACA': 2, 'ACAC': 1, 'CACG': 1, 'ACGC': 1, 'CGCA': 1, 'GCAG': 1, 'CAGA': 1, 'AGAC': 1, 'ACAT': 1, 'CATT': 1, 'ATTC': 1, 'TTCA': 1, 'TCAG': 1, 'CAGC': 1, 'AGCG': 1, 'GCGG': 1}, (29.0, 'CGAAGCTGGAATCTGCTCTCTGG'): {'CGAA': 1, 'GAAG': 1, 'AAGC': 1, 'AGCT': 1, 'GCTG': 1, 'CTGG': 2, 'TGGA': 1, 'GGAA': 1, 'GAAT': 1, 'AATC': 1, 'ATCT': 1, 'TCTG': 2, 'CTGC': 1, 'TGCT': 1, 'GCTC': 1, 'CTCT': 2, 'TCTC': 1}, (30.0, 'GACCAGCCGGGGCAGTGAAGCGG'): {'GACC': 1, 'ACCA': 1, 'CCAG': 1, 'CAGC': 1, 'AGCC': 1, 'GCCG': 1, 'CCGG': 1, 'CGGG': 1, 'GGGG': 1, 'GGGC': 1, 'GGCA': 1, 'GCAG': 1, 'CAGT': 1, 'AGTG': 1, 'GTGA': 1, 'TGAA': 1, 'GAAG': 1, 'AAGC': 1, 'AGCG': 1, 'GCGG': 1}, (31.0, 'GGGCGCTGGAACCTGGACCCTGG'): {'GGGC': 1, 'GGCG': 1, 'GCGC': 1, 'CGCT': 1, 'GCTG': 1, 'CTGG': 3, 'TGGA': 2, 'GGAA': 1, 'GAAC': 1, 'AACC': 1, 'ACCT': 1, 'CCTG': 2, 'GGAC': 1, 'GACC': 1, 'ACCC': 1, 'CCCT': 1}, (32.0, 'CCCCAGCAGGGCTTCTTCTGTCC'): {'CCCC': 1, 'CCCA': 1, 'CCAG': 1, 'CAGC': 1, 'AGCA': 1, 'GCAG': 1, 'CAGG': 1, 'AGGG': 1, 'GGGC': 1, 'GGCT': 1, 'GCTT': 1, 'CTTC': 2, 'TTCT': 2, 'TCTT': 1, 'TCTG': 1, 'CTGT': 1, 'TGTC': 1, 'GTCC': 1}, (33.0, 'CTGGGCAGGCGACCCGCCGCAGG'): {'CTGG': 1, 'TGGG': 1, 'GGGC': 1, 'GGCA': 1, 'GCAG': 2, 'CAGG': 2, 'AGGC': 1, 'GGCG': 1, 'GCGA': 1, 'CGAC': 1, 'GACC': 1, 'ACCC': 1, 'CCCG': 1, 'CCGC': 2, 'CGCC': 1, 'GCCG': 1, 'CGCA': 1}, (34.0, 'CCTTTGGGGGTGCCGTGGAGAAC'): {'CCTT': 1, 'CTTT': 1, 'TTTG': 1, 'TTGG': 1, 'TGGG': 1, 'GGGG': 2, 'GGGT': 1, 'GGTG': 1, 'GTGC': 1, 'TGCC': 1, 'GCCG': 1, 'CCGT': 1, 'CGTG': 1, 'GTGG': 1, 'TGGA': 1, 'GGAG': 1, 'GAGA': 1, 'AGAA': 1, 'GAAC': 1}, (35.0, 'GAGAAAGAATACCATGCAGAAGG'): {'GAGA': 1, 'AGAA': 3, 'GAAA': 1, 'AAAG': 1, 'AAGA': 1, 'GAAT': 1, 'AATA': 1, 'ATAC': 1, 'TACC': 1, 'ACCA': 1, 'CCAT': 1, 'CATG': 1, 'ATGC': 1, 'TGCA': 1, 'GCAG': 1, 'CAGA': 1, 'GAAG': 1, 'AAGG': 1}, (36.0, 'CTCCTCCTCTGCTCCGCCACCGG'): {'CTCC': 3, 'TCCT': 2, 'CCTC': 2, 'CTCT': 1, 'TCTG': 1, 'CTGC': 1, 'TGCT': 1, 'GCTC': 1, 'TCCG': 1, 'CCGC': 1, 'CGCC': 1, 'GCCA': 1, 'CCAC': 1, 'CACC': 1, 'ACCG': 1, 'CCGG': 1}, (37.0, 'CCACCGGCTTCCTCCTCCTGAGC'): {'CCAC': 1, 'CACC': 1, 'ACCG': 1, 'CCGG': 1, 'CGGC': 1, 'GGCT': 1, 'GCTT': 1, 'CTTC': 1, 'TTCC': 1, 'TCCT': 3, 'CCTC': 2, 'CTCC': 2, 'CCTG': 1, 'CTGA': 1, 'TGAG': 1, 'GAGC': 1}, (38.0, 'GCTGAGGAGGGGTCGCGGCGAGG'): {'GCTG': 1, 'CTGA': 1, 'TGAG': 1, 'GAGG': 3, 'AGGA': 1, 'GGAG': 1, 'AGGG': 1, 'GGGG': 1, 'GGGT': 1, 'GGTC': 1, 'GTCG': 1, 'TCGC': 1, 'CGCG': 1, 'GCGG': 1, 'CGGC': 1, 'GGCG': 1, 'GCGA': 1, 'CGAG': 1}, (39.0, 'CCAAAGAGGTGGCTCCAGTGCCC'): {'CCAA': 1, 'CAAA': 1, 'AAAG': 1, 'AAGA': 1, 'AGAG': 1, 'GAGG': 1, 'AGGT': 1, 'GGTG': 1, 'GTGG': 1, 'TGGC': 1, 'GGCT': 1, 'GCTC': 1, 'CTCC': 1, 'TCCA': 1, 'CCAG': 1, 'CAGT': 1, 'AGTG': 1, 'GTGC': 1, 'TGCC': 1, 'GCCC': 1}, (40.0, 'GCACGCAGCGGCGGGAGCCCAGG'): {'GCAC': 1, 'CACG': 1, 'ACGC': 1, 'CGCA': 1, 'GCAG': 1, 'CAGC': 1, 'AGCG': 1, 'GCGG': 2, 'CGGC': 1, 'GGCG': 1, 'CGGG': 1, 'GGGA': 1, 'GGAG': 1, 'GAGC': 1, 'AGCC': 1, 'GCCC': 1, 'CCCA': 1, 'CCAG': 1, 'CAGG': 1}, (41.0, 'CCAGCTCTGTCCACTTGGGGGCC'): {'CCAG': 1, 'CAGC': 1, 'AGCT': 1, 'GCTC': 1, 'CTCT': 1, 'TCTG': 1, 'CTGT': 1, 'TGTC': 1, 'GTCC': 1, 'TCCA': 1, 'CCAC': 1, 'CACT': 1, 'ACTT': 1, 'CTTG': 1, 'TTGG': 1, 'TGGG': 1, 'GGGG': 2, 'GGGC': 1, 'GGCC': 1}, (42.0, 'CCAAACCTATTTAAAACTCCACA'): {'CCAA': 1, 'CAAA': 1, 'AAAC': 2, 'AACC': 1, 'ACCT': 1, 'CCTA': 1, 'CTAT': 1, 'TATT': 1, 'ATTT': 1, 'TTTA': 1, 'TTAA': 1, 'TAAA': 1, 'AAAA': 1, 'AACT': 1, 'ACTC': 1, 'CTCC': 1, 'TCCA': 1, 'CCAC': 1, 'CACA': 1}, (43.0, 'GGAAGGGCTAGGCGGGGGCGCGG'): {'GGAA': 1, 'GAAG': 1, 'AAGG': 1, 'AGGG': 1, 'GGGC': 2, 'GGCT': 1, 'GCTA': 1, 'CTAG': 1, 'TAGG': 1, 'AGGC': 1, 'GGCG': 2, 'GCGG': 2, 'CGGG': 1, 'GGGG': 2, 'GCGC': 1, 'CGCG': 1}, (44.0, 'GCAAATAACCTTCTGTGTCATGG'): {'GCAA': 1, 'CAAA': 1, 'AAAT': 1, 'AATA': 1, 'ATAA': 1, 'TAAC': 1, 'AACC': 1, 'ACCT': 1, 'CCTT': 1, 'CTTC': 1, 'TTCT': 1, 'TCTG': 1, 'CTGT': 1, 'TGTG': 1, 'GTGT': 1, 'TGTC': 1, 'GTCA': 1, 'TCAT': 1, 'CATG': 1, 'ATGG': 1}, (45.0, 'CCTGGTCCACTCAGACTTGGTGC'): {'CCTG': 1, 'CTGG': 1, 'TGGT': 2, 'GGTC': 1, 'GTCC': 1, 'TCCA': 1, 'CCAC': 1, 'CACT': 1, 'ACTC': 1, 'CTCA': 1, 'TCAG': 1, 'CAGA': 1, 'AGAC': 1, 'GACT': 1, 'ACTT': 1, 'CTTG': 1, 'TTGG': 1, 'GGTG': 1, 'GTGC': 1}, (46.0, 'GCAGGACTCCTTTCCTCCATTGG'): {'GCAG': 1, 'CAGG': 1, 'AGGA': 1, 'GGAC': 1, 'GACT': 1, 'ACTC': 1, 'CTCC': 2, 'TCCT': 2, 'CCTT': 1, 'CTTT': 1, 'TTTC': 1, 'TTCC': 1, 'CCTC': 1, 'TCCA': 1, 'CCAT': 1, 'CATT': 1, 'ATTG': 1, 'TTGG': 1}, (47.0, 'GCTGCGCCTCTGCTGCGCCTCGG'): {'GCTG': 2, 'CTGC': 3, 'TGCG': 2, 'GCGC': 2, 'CGCC': 2, 'GCCT': 2, 'CCTC': 2, 'CTCT': 1, 'TCTG': 1, 'TGCT': 1, 'CTCG': 1, 'TCGG': 1}, (48.0, 'CCATCTTATAATCAGCTGGCTTC'): {'CCAT': 1, 'CATC': 1, 'ATCT': 1, 'TCTT': 1, 'CTTA': 1, 'TTAT': 1, 'TATA': 1, 'ATAA': 1, 'TAAT': 1, 'AATC': 1, 'ATCA': 1, 'TCAG': 1, 'CAGC': 1, 'AGCT': 1, 'GCTG': 1, 'CTGG': 1, 'TGGC': 1, 'GGCT': 1, 'GCTT': 1, 'CTTC': 1}, (49.0, 'CCAAAAAAGAACTGCACCTCTGG'): {'CCAA': 1, 'CAAA': 1, 'AAAA': 3, 'AAAG': 1, 'AAGA': 1, 'AGAA': 1, 'GAAC': 1, 'AACT': 1, 'ACTG': 1, 'CTGC': 1, 'TGCA': 1, 'GCAC': 1, 'CACC': 1, 'ACCT': 1, 'CCTC': 1, 'CTCT': 1, 'TCTG': 1, 'CTGG': 1}, (50.0, 'CCTGCTTCTCCACGTAGTCGAAC'): {'CCTG': 1, 'CTGC': 1, 'TGCT': 1, 'GCTT': 1, 'CTTC': 1, 'TTCT': 1, 'TCTC': 1, 'CTCC': 1, 'TCCA': 1, 'CCAC': 1, 'CACG': 1, 'ACGT': 1, 'CGTA': 1, 'GTAG': 1, 'TAGT': 1, 'AGTC': 1, 'GTCG': 1, 'TCGA': 1, 'CGAA': 1, 'GAAC': 1}, (51.0, 'CCTGAGGACCGGCAACATGGTGC'): {'CCTG': 1, 'CTGA': 1, 'TGAG': 1, 'GAGG': 1, 'AGGA': 1, 'GGAC': 1, 'GACC': 1, 'ACCG': 1, 'CCGG': 1, 'CGGC': 1, 'GGCA': 1, 'GCAA': 1, 'CAAC': 1, 'AACA': 1, 'ACAT': 1, 'CATG': 1, 'ATGG': 1, 'TGGT': 1, 'GGTG': 1, 'GTGC': 1}, (52.0, 'CCTACATCCTGGTGGTGGCGGGC'): {'CCTA': 1, 'CTAC': 1, 'TACA': 1, 'ACAT': 1, 'CATC': 1, 'ATCC': 1, 'TCCT': 1, 'CCTG': 1, 'CTGG': 1, 'TGGT': 2, 'GGTG': 2, 'GTGG': 2, 'TGGC': 1, 'GGCG': 1, 'GCGG': 1, 'CGGG': 1, 'GGGC': 1}, (53.0, 'GGCACTGACAATCCCCTTTCTGG'): {'GGCA': 1, 'GCAC': 1, 'CACT': 1, 'ACTG': 1, 'CTGA': 1, 'TGAC': 1, 'GACA': 1, 'ACAA': 1, 'CAAT': 1, 'AATC': 1, 'ATCC': 1, 'TCCC': 1, 'CCCC': 1, 'CCCT': 1, 'CCTT': 1, 'CTTT': 1, 'TTTC': 1, 'TTCT': 1, 'TCTG': 1, 'CTGG': 1}, (54.0, 'CCTCAGTCTTCTTGGAGCTCCTC'): {'CCTC': 2, 'CTCA': 1, 'TCAG': 1, 'CAGT': 1, 'AGTC': 1, 'GTCT': 1, 'TCTT': 2, 'CTTC': 1, 'TTCT': 1, 'CTTG': 1, 'TTGG': 1, 'TGGA': 1, 'GGAG': 1, 'GAGC': 1, 'AGCT': 1, 'GCTC': 1, 'CTCC': 1, 'TCCT': 1}, (55.0, 'GAAGAAGACAAATCACAAACTGG'): {'GAAG': 2, 'AAGA': 2, 'AGAA': 1, 'AGAC': 1, 'GACA': 1, 'ACAA': 2, 'CAAA': 2, 'AAAT': 1, 'AATC': 1, 'ATCA': 1, 'TCAC': 1, 'CACA': 1, 'AAAC': 1, 'AACT': 1, 'ACTG': 1, 'CTGG': 1}, (56.0, 'CCAGGACGCGCTCTTCCCGCCCC'): {'CCAG': 1, 'CAGG': 1, 'AGGA': 1, 'GGAC': 1, 'GACG': 1, 'ACGC': 1, 'CGCG': 1, 'GCGC': 1, 'CGCT': 1, 'GCTC': 1, 'CTCT': 1, 'TCTT': 1, 'CTTC': 1, 'TTCC': 1, 'TCCC': 1, 'CCCG': 1, 'CCGC': 1, 'CGCC': 1, 'GCCC': 1, 'CCCC': 1}, (57.0, 'GCCGTGCAGGCAGCTGAGGCTGG'): {'GCCG': 1, 'CCGT': 1, 'CGTG': 1, 'GTGC': 1, 'TGCA': 1, 'GCAG': 2, 'CAGG': 1, 'AGGC': 2, 'GGCA': 1, 'CAGC': 1, 'AGCT': 1, 'GCTG': 2, 'CTGA': 1, 'TGAG': 1, 'GAGG': 1, 'GGCT': 1, 'CTGG': 1}, (58.0, 'CTCGTCTGATAAGACAACAGTGG'): {'CTCG': 1, 'TCGT': 1, 'CGTC': 1, 'GTCT': 1, 'TCTG': 1, 'CTGA': 1, 'TGAT': 1, 'GATA': 1, 'ATAA': 1, 'TAAG': 1, 'AAGA': 1, 'AGAC': 1, 'GACA': 1, 'ACAA': 1, 'CAAC': 1, 'AACA': 1, 'ACAG': 1, 'CAGT': 1, 'AGTG': 1, 'GTGG': 1}, (59.0, 'GTGAATAGAGCCAGCAAAGGAGG'): {'GTGA': 1, 'TGAA': 1, 'GAAT': 1, 'AATA': 1, 'ATAG': 1, 'TAGA': 1, 'AGAG': 1, 'GAGC': 1, 'AGCC': 1, 'GCCA': 1, 'CCAG': 1, 'CAGC': 1, 'AGCA': 1, 'GCAA': 1, 'CAAA': 1, 'AAAG': 1, 'AAGG': 1, 'AGGA': 1, 'GGAG': 1, 'GAGG': 1}, (60.0, 'GACTCGCAGACGCCCTCTGCTGG'): {'GACT': 1, 'ACTC': 1, 'CTCG': 1, 'TCGC': 1, 'CGCA': 1, 'GCAG': 1, 'CAGA': 1, 'AGAC': 1, 'GACG': 1, 'ACGC': 1, 'CGCC': 1, 'GCCC': 1, 'CCCT': 1, 'CCTC': 1, 'CTCT': 1, 'TCTG': 1, 'CTGC': 1, 'TGCT': 1, 'GCTG': 1, 'CTGG': 1}, (61.0, 'TTGTCGTCTTCTGTCCAAGTTGG'): {'TTGT': 1, 'TGTC': 2, 'GTCG': 1, 'TCGT': 1, 'CGTC': 1, 'GTCT': 1, 'TCTT': 1, 'CTTC': 1, 'TTCT': 1, 'TCTG': 1, 'CTGT': 1, 'GTCC': 1, 'TCCA': 1, 'CCAA': 1, 'CAAG': 1, 'AAGT': 1, 'AGTT': 1, 'GTTG': 1, 'TTGG': 1}, (62.0, 'CCGCTGTGGCACTGCTGCGCCTC'): {'CCGC': 1, 'CGCT': 1, 'GCTG': 2, 'CTGT': 1, 'TGTG': 1, 'GTGG': 1, 'TGGC': 1, 'GGCA': 1, 'GCAC': 1, 'CACT': 1, 'ACTG': 1, 'CTGC': 2, 'TGCT': 1, 'TGCG': 1, 'GCGC': 1, 'CGCC': 1, 'GCCT': 1, 'CCTC': 1}, (63.0, 'GGCCATGGCGGGCTGGATCCAGG'): {'GGCC': 1, 'GCCA': 1, 'CCAT': 1, 'CATG': 1, 'ATGG': 1, 'TGGC': 1, 'GGCG': 1, 'GCGG': 1, 'CGGG': 1, 'GGGC': 1, 'GGCT': 1, 'GCTG': 1, 'CTGG': 1, 'TGGA': 1, 'GGAT': 1, 'GATC': 1, 'ATCC': 1, 'TCCA': 1, 'CCAG': 1, 'CAGG': 1}, (64.0, 'CCTGCAGAGCCCCATCTTGGCTC'): {'CCTG': 1, 'CTGC': 1, 'TGCA': 1, 'GCAG': 1, 'CAGA': 1, 'AGAG': 1, 'GAGC': 1, 'AGCC': 1, 'GCCC': 1, 'CCCC': 1, 'CCCA': 1, 'CCAT': 1, 'CATC': 1, 'ATCT': 1, 'TCTT': 1, 'CTTG': 1, 'TTGG': 1, 'TGGC': 1, 'GGCT': 1, 'GCTC': 1}, (65.0, 'CCAGGAGCAAACTCCCCCCACCC'): {'CCAG': 1, 'CAGG': 1, 'AGGA': 1, 'GGAG': 1, 'GAGC': 1, 'AGCA': 1, 'GCAA': 1, 'CAAA': 1, 'AAAC': 1, 'AACT': 1, 'ACTC': 1, 'CTCC': 1, 'TCCC': 1, 'CCCC': 3, 'CCCA': 1, 'CCAC': 1, 'CACC': 1, 'ACCC': 1}, (66.0, 'CCACTTCCTCCAGCAGCCTCGGC'): {'CCAC': 1, 'CACT': 1, 'ACTT': 1, 'CTTC': 1, 'TTCC': 1, 'TCCT': 1, 'CCTC': 2, 'CTCC': 1, 'TCCA': 1, 'CCAG': 1, 'CAGC': 2, 'AGCA': 1, 'GCAG': 1, 'AGCC': 1, 'GCCT': 1, 'CTCG': 1, 'TCGG': 1, 'CGGC': 1}, (67.0, 'CCGCGAGCGCAGCACCTCCCGGC'): {'CCGC': 1, 'CGCG': 1, 'GCGA': 1, 'CGAG': 1, 'GAGC': 1, 'AGCG': 1, 'GCGC': 1, 'CGCA': 1, 'GCAG': 1, 'CAGC': 1, 'AGCA': 1, 'GCAC': 1, 'CACC': 1, 'ACCT': 1, 'CCTC': 1, 'CTCC': 1, 'TCCC': 1, 'CCCG': 1, 'CCGG': 1, 'CGGC': 1}, (68.0, 'GCAAAACTCAACCCTACCCCAGG'): {'GCAA': 1, 'CAAA': 1, 'AAAA': 1, 'AAAC': 1, 'AACT': 1, 'ACTC': 1, 'CTCA': 1, 'TCAA': 1, 'CAAC': 1, 'AACC': 1, 'ACCC': 2, 'CCCT': 1, 'CCTA': 1, 'CTAC': 1, 'TACC': 1, 'CCCC': 1, 'CCCA': 1, 'CCAG': 1, 'CAGG': 1}, (69.0, 'GAATCCATCTTCCTGACCCTTGG'): {'GAAT': 1, 'AATC': 1, 'ATCC': 1, 'TCCA': 1, 'CCAT': 1, 'CATC': 1, 'ATCT': 1, 'TCTT': 1, 'CTTC': 1, 'TTCC': 1, 'TCCT': 1, 'CCTG': 1, 'CTGA': 1, 'TGAC': 1, 'GACC': 1, 'ACCC': 1, 'CCCT': 1, 'CCTT': 1, 'CTTG': 1, 'TTGG': 1}, (70.0, 'CCGAATCTGACATCATCACCTAG'): {'CCGA': 1, 'CGAA': 1, 'GAAT': 1, 'AATC': 1, 'ATCT': 1, 'TCTG': 1, 'CTGA': 1, 'TGAC': 1, 'GACA': 1, 'ACAT': 1, 'CATC': 2, 'ATCA': 2, 'TCAT': 1, 'TCAC': 1, 'CACC': 1, 'ACCT': 1, 'CCTA': 1, 'CTAG': 1}, (71.0, 'CCCCCATTCCCACATCTCTGCTC'): {'CCCC': 2, 'CCCA': 2, 'CCAT': 1, 'CATT': 1, 'ATTC': 1, 'TTCC': 1, 'TCCC': 1, 'CCAC': 1, 'CACA': 1, 'ACAT': 1, 'CATC': 1, 'ATCT': 1, 'TCTC': 1, 'CTCT': 1, 'TCTG': 1, 'CTGC': 1, 'TGCT': 1, 'GCTC': 1}, (72.0, 'GGGACTGGGGTCGGGAGGGTGGG'): {'GGGA': 2, 'GGAC': 1, 'GACT': 1, 'ACTG': 1, 'CTGG': 1, 'TGGG': 2, 'GGGG': 1, 'GGGT': 2, 'GGTC': 1, 'GTCG': 1, 'TCGG': 1, 'CGGG': 1, 'GGAG': 1, 'GAGG': 1, 'AGGG': 1, 'GGTG': 1, 'GTGG': 1}, (73.0, 'CCTCCCCCTTCTCCAGCTTTCTC'): {'CCTC': 1, 'CTCC': 2, 'TCCC': 1, 'CCCC': 2, 'CCCT': 1, 'CCTT': 1, 'CTTC': 1, 'TTCT': 2, 'TCTC': 2, 'TCCA': 1, 'CCAG': 1, 'CAGC': 1, 'AGCT': 1, 'GCTT': 1, 'CTTT': 1, 'TTTC': 1}, (74.0, 'CCAAGTTGGTCGCTTCCCTGCGC'): {'CCAA': 1, 'CAAG': 1, 'AAGT': 1, 'AGTT': 1, 'GTTG': 1, 'TTGG': 1, 'TGGT': 1, 'GGTC': 1, 'GTCG': 1, 'TCGC': 1, 'CGCT': 1, 'GCTT': 1, 'CTTC': 1, 'TTCC': 1, 'TCCC': 1, 'CCCT': 1, 'CCTG': 1, 'CTGC': 1, 'TGCG': 1, 'GCGC': 1}, (75.0, 'CCTGTAACTCTCTCCCCCTCTTC'): {'CCTG': 1, 'CTGT': 1, 'TGTA': 1, 'GTAA': 1, 'TAAC': 1, 'AACT': 1, 'ACTC': 1, 'CTCT': 3, 'TCTC': 2, 'CTCC': 1, 'TCCC': 1, 'CCCC': 2, 'CCCT': 1, 'CCTC': 1, 'TCTT': 1, 'CTTC': 1}, (76.0, 'CCCCCTTCCACAAACTCTTCCAC'): {'CCCC': 2, 'CCCT': 1, 'CCTT': 1, 'CTTC': 2, 'TTCC': 2, 'TCCA': 2, 'CCAC': 2, 'CACA': 1, 'ACAA': 1, 'CAAA': 1, 'AAAC': 1, 'AACT': 1, 'ACTC': 1, 'CTCT': 1, 'TCTT': 1}, (77.0, 'CCCGAGGCGTGCAGCTGGGAACT'): {'CCCG': 1, 'CCGA': 1, 'CGAG': 1, 'GAGG': 1, 'AGGC': 1, 'GGCG': 1, 'GCGT': 1, 'CGTG': 1, 'GTGC': 1, 'TGCA': 1, 'GCAG': 1, 'CAGC': 1, 'AGCT': 1, 'GCTG': 1, 'CTGG': 1, 'TGGG': 1, 'GGGA': 1, 'GGAA': 1, 'GAAC': 1, 'AACT': 1}, (78.0, 'CCAAGCCACACGTTTCCCTCTTC'): {'CCAA': 1, 'CAAG': 1, 'AAGC': 1, 'AGCC': 1, 'GCCA': 1, 'CCAC': 1, 'CACA': 1, 'ACAC': 1, 'CACG': 1, 'ACGT': 1, 'CGTT': 1, 'GTTT': 1, 'TTTC': 1, 'TTCC': 1, 'TCCC': 1, 'CCCT': 1, 'CCTC': 1, 'CTCT': 1, 'TCTT': 1, 'CTTC': 1}, (79.0, 'CCCTGCCAGTCCCGAGACCCACC'): {'CCCT': 1, 'CCTG': 1, 'CTGC': 1, 'TGCC': 1, 'GCCA': 1, 'CCAG': 1, 'CAGT': 1, 'AGTC': 1, 'GTCC': 1, 'TCCC': 1, 'CCCG': 1, 'CCGA': 1, 'CGAG': 1, 'GAGA': 1, 'AGAC': 1, 'GACC': 1, 'ACCC': 1, 'CCCA': 1, 'CCAC': 1, 'CACC': 1}, (80.0, 'CCTTTCCCAAAGGACCCTCATTC'): {'CCTT': 1, 'CTTT': 1, 'TTTC': 1, 'TTCC': 1, 'TCCC': 1, 'CCCA': 1, 'CCAA': 1, 'CAAA': 1, 'AAAG': 1, 'AAGG': 1, 'AGGA': 1, 'GGAC': 1, 'GACC': 1, 'ACCC': 1, 'CCCT': 1, 'CCTC': 1, 'CTCA': 1, 'TCAT': 1, 'CATT': 1, 'ATTC': 1}, (81.0, 'CCCGGCCCCCTTCCGCCCCCACC'): {'CCCG': 1, 'CCGG': 1, 'CGGC': 1, 'GGCC': 1, 'GCCC': 2, 'CCCC': 4, 'CCCT': 1, 'CCTT': 1, 'CTTC': 1, 'TTCC': 1, 'TCCG': 1, 'CCGC': 1, 'CGCC': 1, 'CCCA': 1, 'CCAC': 1, 'CACC': 1}, (82.0, 'CGGCCAGAGACCGAGCCCTAAGG'): {'CGGC': 1, 'GGCC': 1, 'GCCA': 1, 'CCAG': 1, 'CAGA': 1, 'AGAG': 1, 'GAGA': 1, 'AGAC': 1, 'GACC': 1, 'ACCG': 1, 'CCGA': 1, 'CGAG': 1, 'GAGC': 1, 'AGCC': 1, 'GCCC': 1, 'CCCT': 1, 'CCTA': 1, 'CTAA': 1, 'TAAG': 1, 'AAGG': 1}, (83.0, 'CCCCCAGTGACTGCTGCCACAAC'): {'CCCC': 2, 'CCCA': 1, 'CCAG': 1, 'CAGT': 1, 'AGTG': 1, 'GTGA': 1, 'TGAC': 1, 'GACT': 1, 'ACTG': 1, 'CTGC': 2, 'TGCT': 1, 'GCTG': 1, 'TGCC': 1, 'GCCA': 1, 'CCAC': 1, 'CACA': 1, 'ACAA': 1, 'CAAC': 1}, (84.0, 'CCACCTGGAGGACTACAGTGGCC'): {'CCAC': 1, 'CACC': 1, 'ACCT': 1, 'CCTG': 1, 'CTGG': 1, 'TGGA': 1, 'GGAG': 1, 'GAGG': 1, 'AGGA': 1, 'GGAC': 1, 'GACT': 1, 'ACTA': 1, 'CTAC': 1, 'TACA': 1, 'ACAG': 1, 'CAGT': 1, 'AGTG': 1, 'GTGG': 1, 'TGGC': 1, 'GGCC': 1}, (85.0, 'CCTGAAGGCCAGGGGCTGGCTCC'): {'CCTG': 1, 'CTGA': 1, 'TGAA': 1, 'GAAG': 1, 'AAGG': 1, 'AGGC': 1, 'GGCC': 1, 'GCCA': 1, 'CCAG': 1, 'CAGG': 1, 'AGGG': 1, 'GGGG': 1, 'GGGC': 1, 'GGCT': 2, 'GCTG': 1, 'CTGG': 1, 'TGGC': 1, 'GCTC': 1, 'CTCC': 1}, (86.0, 'TCCCAAAGGCGGAGGGCGTTAGG'): {'TCCC': 1, 'CCCA': 1, 'CCAA': 1, 'CAAA': 1, 'AAAG': 1, 'AAGG': 1, 'AGGC': 1, 'GGCG': 2, 'GCGG': 1, 'CGGA': 1, 'GGAG': 1, 'GAGG': 1, 'AGGG': 1, 'GGGC': 1, 'GCGT': 1, 'CGTT': 1, 'GTTA': 1, 'TTAG': 1, 'TAGG': 1}, (87.0, 'TGAGTCCGAGCAGAAGAAGAAGG'): {'TGAG': 1, 'GAGT': 1, 'AGTC': 1, 'GTCC': 1, 'TCCG': 1, 'CCGA': 1, 'CGAG': 1, 'GAGC': 1, 'AGCA': 1, 'GCAG': 1, 'CAGA': 1, 'AGAA': 3, 'GAAG': 3, 'AAGA': 2, 'AAGG': 1}, (88.0, 'GAGTCCGAGCAGAAGAAGAAGGG'): {'GAGT': 1, 'AGTC': 1, 'GTCC': 1, 'TCCG': 1, 'CCGA': 1, 'CGAG': 1, 'GAGC': 1, 'AGCA': 1, 'GCAG': 1, 'CAGA': 1, 'AGAA': 3, 'GAAG': 3, 'AAGA': 2, 'AAGG': 1, 'AGGG': 1}, (89.0, 'CCTGTCTCATCATGCTGGCTGCC'): {'CCTG': 1, 'CTGT': 1, 'TGTC': 1, 'GTCT': 1, 'TCTC': 1, 'CTCA': 1, 'TCAT': 2, 'CATC': 1, 'ATCA': 1, 'CATG': 1, 'ATGC': 1, 'TGCT': 1, 'GCTG': 2, 'CTGG': 1, 'TGGC': 1, 'GGCT': 1, 'CTGC': 1, 'TGCC': 1}, (90.0, 'CCCCATTTGAACAAGCAAAGAAG'): {'CCCC': 1, 'CCCA': 1, 'CCAT': 1, 'CATT': 1, 'ATTT': 1, 'TTTG': 1, 'TTGA': 1, 'TGAA': 1, 'GAAC': 1, 'AACA': 1, 'ACAA': 1, 'CAAG': 1, 'AAGC': 1, 'AGCA': 1, 'GCAA': 1, 'CAAA': 1, 'AAAG': 1, 'AAGA': 1, 'AGAA': 1, 'GAAG': 1}, (91.0, 'CCAGGCTGAGACACTCACCCTGC'): {'CCAG': 1, 'CAGG': 1, 'AGGC': 1, 'GGCT': 1, 'GCTG': 1, 'CTGA': 1, 'TGAG': 1, 'GAGA': 1, 'AGAC': 1, 'GACA': 1, 'ACAC': 1, 'CACT': 1, 'ACTC': 1, 'CTCA': 1, 'TCAC': 1, 'CACC': 1, 'ACCC': 1, 'CCCT': 1, 'CCTG': 1, 'CTGC': 1}, (92.0, 'CCCCCCTGCAACACACACAGTTC'): {'CCCC': 3, 'CCCT': 1, 'CCTG': 1, 'CTGC': 1, 'TGCA': 1, 'GCAA': 1, 'CAAC': 1, 'AACA': 1, 'ACAC': 3, 'CACA': 3, 'ACAG': 1, 'CAGT': 1, 'AGTT': 1, 'GTTC': 1}, (93.0, 'CCGACTTGTCCCTCTCTCAGCCC'): {'CCGA': 1, 'CGAC': 1, 'GACT': 1, 'ACTT': 1, 'CTTG': 1, 'TTGT': 1, 'TGTC': 1, 'GTCC': 1, 'TCCC': 1, 'CCCT': 1, 'CCTC': 1, 'CTCT': 2, 'TCTC': 2, 'CTCA': 1, 'TCAG': 1, 'CAGC': 1, 'AGCC': 1, 'GCCC': 1}, (94.0, 'AAAACGTTTCCAAGACATGATGG'): {'AAAA': 1, 'AAAC': 1, 'AACG': 1, 'ACGT': 1, 'CGTT': 1, 'GTTT': 1, 'TTTC': 1, 'TTCC': 1, 'TCCA': 1, 'CCAA': 1, 'CAAG': 1, 'AAGA': 1, 'AGAC': 1, 'GACA': 1, 'ACAT': 1, 'CATG': 1, 'ATGA': 1, 'TGAT': 1, 'GATG': 1, 'ATGG': 1}, (95.0, 'CCACGCCCGCGGGGTGAAGTCGG'): {'CCAC': 1, 'CACG': 1, 'ACGC': 1, 'CGCC': 1, 'GCCC': 1, 'CCCG': 1, 'CCGC': 1, 'CGCG': 1, 'GCGG': 1, 'CGGG': 1, 'GGGG': 1, 'GGGT': 1, 'GGTG': 1, 'GTGA': 1, 'TGAA': 1, 'GAAG': 1, 'AAGT': 1, 'AGTC': 1, 'GTCG': 1, 'TCGG': 1}, (96.0, 'GAGCCCTCAGGCGAACCTCTCGG'): {'GAGC': 1, 'AGCC': 1, 'GCCC': 1, 'CCCT': 1, 'CCTC': 2, 'CTCA': 1, 'TCAG': 1, 'CAGG': 1, 'AGGC': 1, 'GGCG': 1, 'GCGA': 1, 'CGAA': 1, 'GAAC': 1, 'AACC': 1, 'ACCT': 1, 'CTCT': 1, 'TCTC': 1, 'CTCG': 1, 'TCGG': 1}}\n"
     ]
    }
   ],
   "source": [
    "VO_2016_kmers={}\n",
    "\n",
    "for seq_id, sequence in VO_Guide_dictionary.items():\n",
    "    seq_kmer=kmer_counter(sequence, 4)\n",
    "    VO_2016_kmers[(seq_id,sequence)]=seq_kmer\n",
    "\n",
    "print(VO_2016_kmers)"
   ]
  },
  {
   "cell_type": "code",
   "execution_count": null,
   "metadata": {
    "collapsed": true
   },
   "outputs": [],
   "source": []
  }
 ],
 "metadata": {
  "kernelspec": {
   "display_name": "Python 3",
   "language": "python",
   "name": "python3"
  },
  "language_info": {
   "codemirror_mode": {
    "name": "ipython",
    "version": 3
   },
   "file_extension": ".py",
   "mimetype": "text/x-python",
   "name": "python",
   "nbconvert_exporter": "python",
   "pygments_lexer": "ipython3",
   "version": "3.6.3"
  }
 },
 "nbformat": 4,
 "nbformat_minor": 2
}
