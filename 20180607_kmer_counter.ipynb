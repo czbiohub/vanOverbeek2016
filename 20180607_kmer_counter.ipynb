{
 "cells": [
  {
   "cell_type": "markdown",
   "metadata": {},
   "source": [
    "## Create function to count kmers "
   ]
  },
  {
   "cell_type": "markdown",
   "metadata": {},
   "source": [
    "## remove extra unneeded list "
   ]
  },
  {
   "cell_type": "code",
   "execution_count": 21,
   "metadata": {},
   "outputs": [
    {
     "data": {
      "text/plain": [
       "{'AAAA': 12,\n",
       " 'AAAG': 2,\n",
       " 'AAGG': 2,\n",
       " 'AGGG': 2,\n",
       " 'GAAA': 1,\n",
       " 'GGAA': 1,\n",
       " 'GGGA': 1,\n",
       " 'GGGG': 4}"
      ]
     },
     "execution_count": 21,
     "metadata": {},
     "output_type": "execute_result"
    }
   ],
   "source": [
    "def kmer_counter(sequence, kmer_length):\n",
    "    sequence_length=len(sequence)\n",
    "    number_of_kmers=((sequence_length-kmer_length)+1)\n",
    "    \n",
    "    kmer_counts_dict={}\n",
    "    \n",
    "    for i in range(number_of_kmers):\n",
    "        kmer=sequence[i:(i+kmer_length)]\n",
    "        if kmer in kmer_counts_dict: # here we could use kmer_counts_dict.keys() also\n",
    "            kmer_counts_dict[kmer]+=1\n",
    "        else:\n",
    "            kmer_counts_dict[kmer]=1\n",
    "    return kmer_counts_dict\n",
    "\n",
    "kmer_example2=kmer_counter(\"AAAAAAAAAGGGGGGGAAAAAAAAAGGG\", 4)\n",
    "\n",
    "kmer_example2"
   ]
  },
  {
   "cell_type": "code",
   "execution_count": 19,
   "metadata": {},
   "outputs": [
    {
     "name": "stdout",
     "output_type": "stream",
     "text": [
      "yes\n"
     ]
    }
   ],
   "source": [
    "if \"GGGG\" in kmer_example2.keys():\n",
    "    print(\"yes\")"
   ]
  },
  {
   "cell_type": "code",
   "execution_count": null,
   "metadata": {
    "collapsed": true
   },
   "outputs": [],
   "source": []
  }
 ],
 "metadata": {
  "kernelspec": {
   "display_name": "Python 3",
   "language": "python",
   "name": "python3"
  },
  "language_info": {
   "codemirror_mode": {
    "name": "ipython",
    "version": 3
   },
   "file_extension": ".py",
   "mimetype": "text/x-python",
   "name": "python",
   "nbconvert_exporter": "python",
   "pygments_lexer": "ipython3",
   "version": "3.6.3"
  }
 },
 "nbformat": 4,
 "nbformat_minor": 2
}
