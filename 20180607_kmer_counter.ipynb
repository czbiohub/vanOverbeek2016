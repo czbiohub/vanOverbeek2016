{
 "cells": [
  {
   "cell_type": "markdown",
   "metadata": {},
   "source": [
    "## first step create a dictionary of kmer counts "
   ]
  },
  {
   "cell_type": "code",
   "execution_count": 47,
   "metadata": {},
   "outputs": [
    {
     "data": {
      "text/plain": [
       "{'AAAA': 3,\n",
       " 'AAAG': 1,\n",
       " 'AAAT': 1,\n",
       " 'AAGC': 1,\n",
       " 'AATG': 1,\n",
       " 'AGCC': 1,\n",
       " 'ATGC': 2,\n",
       " 'CAAA': 2,\n",
       " 'CCAA': 1,\n",
       " 'CCAT': 1,\n",
       " 'GCAA': 1,\n",
       " 'GCCA': 2,\n",
       " 'TGCA': 1,\n",
       " 'TGCC': 1}"
      ]
     },
     "execution_count": 47,
     "metadata": {},
     "output_type": "execute_result"
    }
   ],
   "source": [
    "sequence=\"ATGCAAATGCCAAAAAAGCCAT\" ## define sequence \n",
    "kmer_length=4 ##define kmer length \n",
    "sequence_length=len(sequence) # define length of sequence \n",
    "number_of_kmers=((sequence_length-kmer_length)+1) # define number of kmers in length of sequence \n",
    "\n",
    "kmer_counts={} # set empty dictionary that you will add kmer names and counts to \n",
    "kmer_list=[] # set an empty list that will contain all the kmers you will count \n",
    "\n",
    "# get the list of kmers \n",
    "for i in range(number_of_kmers): # go through the sequence a certain number of times, starting at the begining. The number of times is the number of possible kmers. \n",
    "    kmer=sequence[i:(i+kmer_length)] # extract kmers of a specified length \n",
    "    kmer_list.append(kmer) # add each kmer to the list of kmers \n",
    "\n",
    "# count the kmers \n",
    "for kmer in kmer_list: # for each jmer in the list evaluate if it is a key in the kmer_counts dict\n",
    "    if kmer in kmer_counts.keys(): # if it is in the dictionary, add one to its already assigned count value \n",
    "        kmer_counts[kmer]+=1\n",
    "    else:\n",
    "        kmer_counts[kmer]=1 # if it is not in the dictionary, make a new key and set its value equal to 1. \n",
    "kmer_counts"
   ]
  },
  {
   "cell_type": "code",
   "execution_count": null,
   "metadata": {
    "collapsed": true
   },
   "outputs": [],
   "source": [
    "\n",
    "\n",
    "\n",
    "\n"
   ]
  }
 ],
 "metadata": {
  "kernelspec": {
   "display_name": "Python 3",
   "language": "python",
   "name": "python3"
  },
  "language_info": {
   "codemirror_mode": {
    "name": "ipython",
    "version": 3
   },
   "file_extension": ".py",
   "mimetype": "text/x-python",
   "name": "python",
   "nbconvert_exporter": "python",
   "pygments_lexer": "ipython3",
   "version": "3.6.3"
  }
 },
 "nbformat": 4,
 "nbformat_minor": 2
}
