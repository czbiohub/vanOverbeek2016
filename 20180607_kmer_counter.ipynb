{
 "cells": [
  {
   "cell_type": "markdown",
   "metadata": {},
   "source": [
    "## Create function to count kmers "
   ]
  },
  {
   "cell_type": "code",
   "execution_count": 10,
   "metadata": {},
   "outputs": [
    {
     "data": {
      "text/plain": [
       "{'AAAA': 13,\n",
       " 'AAAG': 2,\n",
       " 'AAGG': 2,\n",
       " 'AGGG': 2,\n",
       " 'GAAA': 2,\n",
       " 'GGAA': 2,\n",
       " 'GGGA': 2,\n",
       " 'GGGG': 4}"
      ]
     },
     "execution_count": 10,
     "metadata": {},
     "output_type": "execute_result"
    }
   ],
   "source": [
    "\n",
    "\n",
    "def kmer_counter(sequence, kmer_length):\n",
    "    sequence_length=len(sequence)\n",
    "    number_of_kmers=((sequence_length-kmer_length)+1)\n",
    "    \n",
    "    kmer_counts_dict={}\n",
    "    kmer_list=[]\n",
    "    \n",
    "    for i in range(number_of_kmers):\n",
    "        kmer=sequence[i:(i+kmer_length)]\n",
    "        kmer_list.append(kmer)\n",
    "    \n",
    "    for kmer in kmer_list:\n",
    "        if kmer in kmer_counts_dict:\n",
    "            kmer_counts_dict[kmer]+=1\n",
    "        else:\n",
    "            kmer_counts_dict[kmer]=1\n",
    "    return kmer_counts_dict\n",
    "\n",
    "kmer_example=kmer_counter(\"AAAAAAAAAGGGGGGGAAAAAAAAAGGGAAAA\", 4)\n",
    "\n",
    "kmer_example"
   ]
  },
  {
   "cell_type": "code",
   "execution_count": null,
   "metadata": {
    "collapsed": true
   },
   "outputs": [],
   "source": []
  }
 ],
 "metadata": {
  "kernelspec": {
   "display_name": "Python 3",
   "language": "python",
   "name": "python3"
  },
  "language_info": {
   "codemirror_mode": {
    "name": "ipython",
    "version": 3
   },
   "file_extension": ".py",
   "mimetype": "text/x-python",
   "name": "python",
   "nbconvert_exporter": "python",
   "pygments_lexer": "ipython3",
   "version": "3.6.3"
  }
 },
 "nbformat": 4,
 "nbformat_minor": 2
}
